{
 "cells": [
  {
   "cell_type": "code",
   "execution_count": 9,
   "metadata": {},
   "outputs": [
    {
     "data": {
      "text/plain": [
       "{'project': 'CCF_HCD_ITK',\n",
       " 'collections': None,\n",
       " 'ignore_list': ['OTHER_FILES'],\n",
       " 'subjects': ['HCD0737657', 'HCD0551239'],\n",
       " 'sessions': []}"
      ]
     },
     "execution_count": 9,
     "metadata": {},
     "output_type": "execute_result"
    }
   ],
   "source": [
    "import argparse\n",
    "from copy import copy\n",
    "from hashlib import md5\n",
    "import logging\n",
    "import os\n",
    "import re\n",
    "import sys\n",
    "import time\n",
    "\n",
    "import yaxil\n",
    "from yaxil.exceptions import RestApiError\n",
    "from requests.exceptions import ConnectionError\n",
    "\n",
    "logging.basicConfig(level=logging.DEBUG)\n",
    "\n",
    "logger = logging.getLogger(__name__)\n",
    "MAX_RETRIES = 3\n",
    "\n",
    "parser = argparse.ArgumentParser(description='Download from Remote XNAT')\n",
    "parser.add_argument('--project', '-p', type=str)\n",
    "parser.add_argument('--collections', '-c', type=str, nargs='+')\n",
    "parser.add_argument('--ignore-list', type=str, nargs='+', default=['OTHER_FILES'])\n",
    "parser.add_argument('--subjects', '-s', type=str, nargs='+', default=[], help='Explicit list of subjects')\n",
    "parser.add_argument('--sessions', type=list, default=[], help='Explicit list of sessions')\n",
    "\n",
    "os.chdir('/net/holynfs01/srv/export/ncf_hcp/share_root/data/intradb/')\n",
    "         \n",
    "args = parser.parse_args(['-p', 'CCF_HCD_ITK',  '-s', 'HCD0737657', 'HCD0551239'])\n",
    "opts = vars(args)\n",
    "opts\n"
   ]
  },
  {
   "cell_type": "code",
   "execution_count": 10,
   "metadata": {},
   "outputs": [
    {
     "data": {
      "text/plain": [
       "{'project': 'CCF_HCD_ITK',\n",
       " 'collections': None,\n",
       " 'ignore_list': ['OTHER_FILES'],\n",
       " 'subjects': ['HCD0737657', 'HCD0551239'],\n",
       " 'sessions': []}"
      ]
     },
     "execution_count": 10,
     "metadata": {},
     "output_type": "execute_result"
    }
   ],
   "source": [
    "locals().update(opts)\n",
    "opts"
   ]
  },
  {
   "cell_type": "code",
   "execution_count": 11,
   "metadata": {},
   "outputs": [
    {
     "name": "stderr",
     "output_type": "stream",
     "text": [
      "INFO:__main__:Fetching list of experiments\n",
      "DEBUG:yaxil:issuing http request https://intradb.humanconnectome.org/data/subjects\n",
      "DEBUG:urllib3.connectionpool:Starting new HTTPS connection (1): intradb.humanconnectome.org:443\n",
      "DEBUG:urllib3.connectionpool:https://intradb.humanconnectome.org:443 \"GET /data/subjects?columns=ID%2Clabel%2Cproject&label=HCD0737657&project=CCF_HCD_ITK HTTP/1.1\" 200 None\n",
      "DEBUG:yaxil:issuing http request https://intradb.humanconnectome.org/data/experiments\n",
      "DEBUG:urllib3.connectionpool:Starting new HTTPS connection (1): intradb.humanconnectome.org:443\n",
      "DEBUG:urllib3.connectionpool:https://intradb.humanconnectome.org:443 \"GET /data/experiments?columns=ID%2Clabel%2Cproject%2Cxnat%3Asubjectassessordata%2Fsubject_id%2Csubject_label%2Cinsert_date&project=CCF_HCD_ITK&xnat%3Asubjectassessordata%2Fsubject_id=HCPIntradb03_S00662 HTTP/1.1\" 200 None\n",
      "DEBUG:yaxil:issuing http request https://intradb.humanconnectome.org/data/subjects\n",
      "DEBUG:urllib3.connectionpool:Starting new HTTPS connection (1): intradb.humanconnectome.org:443\n",
      "DEBUG:urllib3.connectionpool:https://intradb.humanconnectome.org:443 \"GET /data/subjects?columns=ID%2Clabel%2Cproject&label=HCD0551239&project=CCF_HCD_ITK HTTP/1.1\" 200 None\n",
      "DEBUG:yaxil:issuing http request https://intradb.humanconnectome.org/data/experiments\n",
      "DEBUG:urllib3.connectionpool:Starting new HTTPS connection (1): intradb.humanconnectome.org:443\n",
      "DEBUG:urllib3.connectionpool:https://intradb.humanconnectome.org:443 \"GET /data/experiments?columns=ID%2Clabel%2Cproject%2Cxnat%3Asubjectassessordata%2Fsubject_id%2Csubject_label%2Cinsert_date&project=CCF_HCD_ITK&xnat%3Asubjectassessordata%2Fsubject_id=HCPIntradb_S04903 HTTP/1.1\" 200 None\n",
      "INFO:__main__:Found 8 experiments\n"
     ]
    },
    {
     "data": {
      "text/plain": [
       "[OrderedDict([('uri', '/data/experiments/HCPIntradb03_E05029'),\n",
       "              ('label', 'HCD0737657_V1_A'),\n",
       "              ('id', 'HCPIntradb03_E05029'),\n",
       "              ('project', 'CCF_HCD_ITK'),\n",
       "              ('subject_id', 'HCPIntradb03_S00662'),\n",
       "              ('subject_label', 'HCD0737657'),\n",
       "              ('archived_date', '2018-03-21 13:35:49.681')]),\n",
       " OrderedDict([('uri', '/data/experiments/HCPIntradb03_E06508'),\n",
       "              ('label', 'HCD0737657_V1_B'),\n",
       "              ('id', 'HCPIntradb03_E06508'),\n",
       "              ('project', 'CCF_HCD_ITK'),\n",
       "              ('subject_id', 'HCPIntradb03_S00662'),\n",
       "              ('subject_label', 'HCD0737657'),\n",
       "              ('archived_date', '2018-04-25 10:38:51.284')]),\n",
       " OrderedDict([('uri', '/data/experiments/HCPIntradb07_E00342'),\n",
       "              ('label', 'HCD0551239_V3_A'),\n",
       "              ('id', 'HCPIntradb07_E00342'),\n",
       "              ('project', 'CCF_HCD_ITK'),\n",
       "              ('subject_id', 'HCPIntradb_S04903'),\n",
       "              ('subject_label', 'HCD0551239'),\n",
       "              ('archived_date', '2019-09-06 17:57:14.971')]),\n",
       " OrderedDict([('uri', '/data/experiments/HCPIntradb07_E00418'),\n",
       "              ('label', 'HCD0551239_V3_B'),\n",
       "              ('id', 'HCPIntradb07_E00418'),\n",
       "              ('project', 'CCF_HCD_ITK'),\n",
       "              ('subject_id', 'HCPIntradb_S04903'),\n",
       "              ('subject_label', 'HCD0551239'),\n",
       "              ('archived_date', '2019-09-15 15:02:45.628')]),\n",
       " OrderedDict([('uri', '/data/experiments/HCPIntradb_E118360'),\n",
       "              ('label', 'HCD0551239_V2_B'),\n",
       "              ('id', 'HCPIntradb_E118360'),\n",
       "              ('project', 'CCF_HCD_ITK'),\n",
       "              ('subject_id', 'HCPIntradb_S04903'),\n",
       "              ('subject_label', 'HCD0551239'),\n",
       "              ('archived_date', '2018-06-13 15:34:14.117')]),\n",
       " OrderedDict([('uri', '/data/experiments/HCPIntradb_E119051'),\n",
       "              ('label', 'HCD0551239_V2_A'),\n",
       "              ('id', 'HCPIntradb_E119051'),\n",
       "              ('project', 'CCF_HCD_ITK'),\n",
       "              ('subject_id', 'HCPIntradb_S04903'),\n",
       "              ('subject_label', 'HCD0551239'),\n",
       "              ('archived_date', '2018-06-11 17:35:21.217')]),\n",
       " OrderedDict([('uri', '/data/experiments/HCPIntradb_E88839'),\n",
       "              ('label', 'HCD0551239_V1_A'),\n",
       "              ('id', 'HCPIntradb_E88839'),\n",
       "              ('project', 'CCF_HCD_ITK'),\n",
       "              ('subject_id', 'HCPIntradb_S04903'),\n",
       "              ('subject_label', 'HCD0551239'),\n",
       "              ('archived_date', '2017-03-20 19:30:37.443')]),\n",
       " OrderedDict([('uri', '/data/experiments/HCPIntradb_E89066'),\n",
       "              ('label', 'HCD0551239_V1_B'),\n",
       "              ('id', 'HCPIntradb_E89066'),\n",
       "              ('project', 'CCF_HCD_ITK'),\n",
       "              ('subject_id', 'HCPIntradb_S04903'),\n",
       "              ('subject_label', 'HCD0551239'),\n",
       "              ('archived_date', '2017-03-31 13:33:46.23')])]"
      ]
     },
     "execution_count": 11,
     "metadata": {},
     "output_type": "execute_result"
    }
   ],
   "source": [
    "if not ignore_list:\n",
    "    ignore_list = list()\n",
    "if not subjects:\n",
    "    subjects = list()\n",
    "if not sessions:\n",
    "    sessions = list()\n",
    "auth = yaxil.auth('intradb')  # Requires setup and description\n",
    "start_time = time.time()\n",
    "with yaxil.session(auth) as sess:\n",
    "    if not sessions:\n",
    "        subject_labels = subjects\n",
    "        logger.info('Fetching list of experiments')\n",
    "        experiments = []\n",
    "        \n",
    "        for label in subject_labels:\n",
    "            try:\n",
    "                sub = list(sess.subjects(label=label, project=project))[0]\n",
    "                experiments.extend(sess.experiments(subject=sub))\n",
    "            except Exception as err:\n",
    "                print('Error with subject {}'.format(label))\n",
    "                print(str(err))\n",
    "        logger.info('Found {} experiments'.format(len(experiments)))\n",
    "        \n",
    "[x._asdict() for x in experiments]"
   ]
  },
  {
   "cell_type": "code",
   "execution_count": 21,
   "metadata": {},
   "outputs": [
    {
     "data": {
      "text/plain": [
       "OrderedDict([('uri', '/data/experiments/HCPIntradb03_E05029'),\n",
       "             ('label', 'HCD0737657_V1_A'),\n",
       "             ('id', 'HCPIntradb03_E05029'),\n",
       "             ('project', 'CCF_HCD_ITK'),\n",
       "             ('subject_id', 'HCPIntradb03_S00662'),\n",
       "             ('subject_label', 'HCD0737657'),\n",
       "             ('archived_date', '2018-03-21 13:35:49.681')])"
      ]
     },
     "execution_count": 21,
     "metadata": {},
     "output_type": "execute_result"
    }
   ],
   "source": [
    "collections = ['tfMRI_CARIT_PA', 'tfMRI_CARIT_AP']\n",
    "experiments[0]._asdict()"
   ]
  },
  {
   "cell_type": "code",
   "execution_count": 22,
   "metadata": {},
   "outputs": [
    {
     "name": "stderr",
     "output_type": "stream",
     "text": [
      "INFO:__main__:Syncing experiment HCD0737657_V1_A\n",
      "DEBUG:yaxil:issuing http request https://intradb.humanconnectome.org/data/projects/CCF_HCD_ITK/subjects/HCD0737657/experiments/HCD0737657_V1_A/scans\n",
      "DEBUG:yaxil:query parameters {'format': 'json'}\n",
      "DEBUG:urllib3.connectionpool:Starting new HTTPS connection (1): intradb.humanconnectome.org:443\n",
      "DEBUG:urllib3.connectionpool:https://intradb.humanconnectome.org:443 \"GET /data/projects/CCF_HCD_ITK/subjects/HCD0737657/experiments/HCD0737657_V1_A/scans?format=json HTTP/1.1\" 200 None\n"
     ]
    }
   ],
   "source": [
    "exp_info = experiments[0]._asdict()\n",
    "\n",
    "with yaxil.session(auth) as sess:\n",
    "    logger.info('Syncing experiment {}'.format(exp_info['label']))\n",
    "    start_time = time.time()\n",
    "    resources_url_pat = ('data/projects/{project}/subjects/{subject_label}/'\n",
    "                         'experiments/{label}/scans')\n",
    "    base_url = resources_url_pat.format(**exp_info)\n",
    "    _, response = yaxil._get(sess._auth, base_url, yaxil.Format.JSON)\n",
    "\n",
    "    # Filter only wanted collections or return all\n",
    "    if collections:\n",
    "        resources = [\n",
    "            result for result in response['ResultSet']['Result']\n",
    "            if result['series_description'] in collections\n",
    "        ]\n",
    "    else:\n",
    "        resources = response['ResultSet']['Result']\n",
    "    "
   ]
  },
  {
   "cell_type": "code",
   "execution_count": 24,
   "metadata": {},
   "outputs": [
    {
     "data": {
      "text/plain": [
       "[{'xsiType': 'xnat:mrScanData',\n",
       "  'xnat_imagescandata_id': '436235',\n",
       "  'note': '',\n",
       "  'series_description': 'tfMRI_CARIT_PA',\n",
       "  'ID': '34',\n",
       "  'type': 'tfMRI',\n",
       "  'URI': '/data/experiments/HCPIntradb03_E05029/scans/34',\n",
       "  'quality': 'usable'},\n",
       " {'xsiType': 'xnat:mrScanData',\n",
       "  'xnat_imagescandata_id': '436243',\n",
       "  'note': '',\n",
       "  'series_description': 'tfMRI_CARIT_AP',\n",
       "  'ID': '37',\n",
       "  'type': 'tfMRI',\n",
       "  'URI': '/data/experiments/HCPIntradb03_E05029/scans/37',\n",
       "  'quality': 'usable'}]"
      ]
     },
     "execution_count": 24,
     "metadata": {},
     "output_type": "execute_result"
    }
   ],
   "source": [
    "resources"
   ]
  },
  {
   "cell_type": "code",
   "execution_count": 29,
   "metadata": {},
   "outputs": [
    {
     "data": {
      "text/plain": [
       "{'xsiType': 'xnat:mrScanData',\n",
       " 'xnat_imagescandata_id': '436235',\n",
       " 'note': '',\n",
       " 'series_description': 'tfMRI_CARIT_PA',\n",
       " 'ID': '34',\n",
       " 'type': 'tfMRI',\n",
       " 'URI': '/data/experiments/HCPIntradb03_E05029/scans/34',\n",
       " 'quality': 'usable'}"
      ]
     },
     "execution_count": 29,
     "metadata": {},
     "output_type": "execute_result"
    }
   ],
   "source": [
    "resource_info = resources[0]\n",
    "ignore_list\n",
    "resource_info"
   ]
  },
  {
   "cell_type": "code",
   "execution_count": 26,
   "metadata": {},
   "outputs": [
    {
     "ename": "KeyError",
     "evalue": "'label'",
     "output_type": "error",
     "traceback": [
      "\u001b[0;31m---------------------------------------------------------------------------\u001b[0m",
      "\u001b[0;31mKeyError\u001b[0m                                  Traceback (most recent call last)",
      "\u001b[0;32m<ipython-input-26-5de8523fa6bf>\u001b[0m in \u001b[0;36m<module>\u001b[0;34m\u001b[0m\n\u001b[1;32m      2\u001b[0m     \u001b[0mignore_list\u001b[0m \u001b[0;34m=\u001b[0m \u001b[0mlist\u001b[0m\u001b[0;34m(\u001b[0m\u001b[0;34m)\u001b[0m\u001b[0;34m\u001b[0m\u001b[0;34m\u001b[0m\u001b[0m\n\u001b[1;32m      3\u001b[0m     \u001b[0;31m# Use a cookie to mark a resource as complete\u001b[0m\u001b[0;34m\u001b[0m\u001b[0;34m\u001b[0m\u001b[0;34m\u001b[0m\u001b[0m\n\u001b[0;32m----> 4\u001b[0;31m success_cookie = os.path.join(exp_info['label'], resource_info['label'],\n\u001b[0m\u001b[1;32m      5\u001b[0m                               'SUCCESS')\n\u001b[1;32m      6\u001b[0m \u001b[0mprint\u001b[0m\u001b[0;34m(\u001b[0m\u001b[0msuccess_cookie\u001b[0m\u001b[0;34m)\u001b[0m\u001b[0;34m\u001b[0m\u001b[0;34m\u001b[0m\u001b[0m\n",
      "\u001b[0;31mKeyError\u001b[0m: 'label'"
     ]
    }
   ],
   "source": [
    "if not ignore_list:\n",
    "    ignore_list = list()\n",
    "    # Use a cookie to mark a resource as complete\n",
    "success_cookie = os.path.join(exp_info['label'], resource_info['label'],\n",
    "                              'SUCCESS')\n",
    "print(success_cookie)\n",
    "print(os.path.exists(success_cookie))\n",
    "import os\n",
    "print(os.getcwd())"
   ]
  },
  {
   "cell_type": "code",
   "execution_count": 36,
   "metadata": {},
   "outputs": [
    {
     "data": {
      "text/plain": [
       "OrderedDict([('uri', '/data/experiments/HCPIntradb03_E05029'),\n",
       "             ('label', 'HCD0737657_V1_A'),\n",
       "             ('id', 'HCPIntradb03_E05029'),\n",
       "             ('project', 'CCF_HCD_ITK'),\n",
       "             ('subject_id', 'HCPIntradb03_S00662'),\n",
       "             ('subject_label', 'HCD0737657'),\n",
       "             ('archived_date', '2018-03-21 13:35:49.681')])"
      ]
     },
     "execution_count": 36,
     "metadata": {},
     "output_type": "execute_result"
    }
   ],
   "source": [
    "url_info"
   ]
  },
  {
   "cell_type": "code",
   "execution_count": null,
   "metadata": {},
   "outputs": [],
   "source": [
    "resource_url_pat = (\n",
    "    'data/projects/{project}/subjects/{subject_label}/'\n",
    "    'experiments/{label}/resources/{xnat_abstractresource_id}/files')\n",
    "url_info = copy(exp_info)  # Combine resource and experiment\n",
    "url_info['xnat_abstractresource_id'] = resource_info[\n",
    "    'xnat_abstractresource_id']\n",
    "\n",
    "base_url = resource_url_pat.format(**url_info)\n",
    "_, response = yaxil._get(sess._auth, base_url, yaxil.Format.JSON)\n",
    "\n",
    "filelist = response['ResultSet']['Result']\n",
    "filelist\n"
   ]
  },
  {
   "cell_type": "code",
   "execution_count": null,
   "metadata": {},
   "outputs": [],
   "source": [
    "print('Downloading ' + filelist[0]['URI'])"
   ]
  },
  {
   "cell_type": "code",
   "execution_count": null,
   "metadata": {},
   "outputs": [],
   "source": [
    "def ignore_file(uri, ignores_list):\n",
    "    ignore = False\n",
    "    for ignore_pat in ignores_list:\n",
    "        if re.search(ignore_pat, uri):\n",
    "            ignore = True\n",
    "    return ignore\n",
    "def fetch_resource(sess, exp_info, resource_info, always_checksum=False, ignore_list=None):\n",
    "    if not ignore_list:\n",
    "        ignore_list = list()\n",
    "    # Use a cookie to mark a resource as complete\n",
    "    success_cookie = os.path.join(exp_info['label'], resource_info['label'],\n",
    "                                  'SUCCESS')\n",
    "    if os.path.exists(success_cookie) and not always_checksum:\n",
    "        return\n",
    "\n",
    "    resource_url_pat = (\n",
    "        'data/projects/{project}/subjects/{subject_label}/'\n",
    "        'experiments/{label}/resources/{xnat_abstractresource_id}/files')\n",
    "    url_info = copy(exp_info)  # Combine resource and experiment\n",
    "    url_info['xnat_abstractresource_id'] = resource_info[\n",
    "        'xnat_abstractresource_id']\n",
    "\n",
    "    base_url = resource_url_pat.format(**url_info)\n",
    "    _, response = yaxil._get(sess._auth, base_url, yaxil.Format.JSON)\n",
    "\n",
    "    filelist = response['ResultSet']['Result']\n",
    "    if not len(filelist):\n",
    "        raise ValueError('No files could be read from {} in json response: {}'.format(base_url, response))\n",
    "    logger.info('Syncing {} file (resources) from {}'.format(len(filelist), base_url))\n",
    "\n",
    "    start_time = time.time()\n",
    "    for fileinfo in filelist:\n",
    "        try:\n",
    "            # Rename URI (python variable case)\n",
    "            fileinfo['uri'] = fileinfo.pop('URI')\n",
    "            if ignore_file(fileinfo['uri'], ignore_list):\n",
    "                logger.debug('Ignoring {}'.format(fileinfo['uri']))\n",
    "                continue\n",
    "            print('Downloading ' + fileinfo['uri'])\n",
    "            download_file(sess, out_dir=exp_info['label'], **fileinfo)\n",
    "        except RuntimeError:\n",
    "            logger.info('Digest failed on {}'.format(fileinfo['uri']))\n",
    "        except RestApiError as err:\n",
    "            logger.info('Download Error on {}: {}'.format(\n",
    "                fileinfo['uri'], err))\n",
    "\n",
    "    elapsed_time = time.time() - start_time\n",
    "    logger.info('Finished in {}'.format(\n",
    "        time.strftime(\"%H:%M:%S\", time.gmtime(elapsed_time))))\n",
    "\n",
    "    # if we got here, mark this collection as completed (\"touch\" cookie)\n",
    "    open(success_cookie, 'w').close()\n",
    "def download_file(sess,\n",
    "                  uri,\n",
    "                  digest,\n",
    "                  collection,\n",
    "                  out_dir='.',\n",
    "                  overwrite=False,\n",
    "                  **kwargs):\n",
    "    basename = uri.split('files/')[-1]\n",
    "    fname = os.path.join(out_dir, collection, basename)\n",
    "    dirname = os.path.dirname(fname)\n",
    "\n",
    "    if not os.path.exists(dirname):\n",
    "        os.makedirs(dirname)\n",
    "    if os.path.exists(fname):\n",
    "        with open(fname, 'rb') as f:\n",
    "            disk_digest = md5(f.read()).hexdigest()\n",
    "        if disk_digest == digest:\n",
    "            logger.debug('Digest matched - Skipping {}'.format(fname))\n",
    "            return\n",
    "        elif overwrite:\n",
    "            # import pdb; pdb.set_trace()\n",
    "            logger.info(\n",
    "                'Digest failed - removing {} and trying again'.format(fname))\n",
    "            os.remove(fname)\n",
    "        else:\n",
    "            raise RuntimeError(\n",
    "                '{} exisited with incorrect digest '.format(fname) +\n",
    "                'but cowardly moving on')\n",
    "\n",
    "    try:\n",
    "        _, result = yaxil._get(\n",
    "            sess._auth,\n",
    "            uri,\n",
    "            yaxil.Format.JSON,  # Format is ignored for _file_ downloads\n",
    "            autobox=False)\n",
    "    except RestApiError as err:\n",
    "        # Empty responses are acceptable for some scripts and onset files\n",
    "        if 'response is empty' in str(err):\n",
    "            result = bytes('', 'utf8')\n",
    "        else:\n",
    "            raise\n",
    "\n",
    "    with open(fname, 'wb') as f:\n",
    "        f.write(result)\n",
    "\n",
    "    with open(fname, 'rb') as f:\n",
    "        disk_digest = md5(f.read()).hexdigest()\n",
    "    if disk_digest != digest:\n",
    "        retries = kwargs.get('retries', 0)\n",
    "        if overwrite:\n",
    "            os.remove(fname)\n",
    "        if retries >= MAX_RETRIES:\n",
    "            raise RuntimeError(\n",
    "                'Digest failed - ' +\n",
    "                '{} may need to be re-downloaded.'.format(fname))\n",
    "        else:\n",
    "            retries += 1\n",
    "            download_file(sess,\n",
    "                          uri,\n",
    "                          digest,\n",
    "                          collection,\n",
    "                          out_dir,\n",
    "                          overwrite=True,\n",
    "                          retries=retries)"
   ]
  },
  {
   "cell_type": "code",
   "execution_count": null,
   "metadata": {
    "scrolled": true
   },
   "outputs": [],
   "source": [
    "print(filelist[0])"
   ]
  },
  {
   "cell_type": "code",
   "execution_count": null,
   "metadata": {},
   "outputs": [],
   "source": [
    "print(ignore_list)\n",
    "print(resources)"
   ]
  },
  {
   "cell_type": "code",
   "execution_count": null,
   "metadata": {},
   "outputs": [],
   "source": [
    "fileinfo = filelist[1]\n",
    "fileinfo['uri'] = fileinfo.pop('URI')\n"
   ]
  },
  {
   "cell_type": "code",
   "execution_count": null,
   "metadata": {},
   "outputs": [],
   "source": [
    "download_file(sess, out_dir=exp_info['label'], **fileinfo)"
   ]
  },
  {
   "cell_type": "code",
   "execution_count": null,
   "metadata": {},
   "outputs": [],
   "source": [
    "for fileinfo in filelist:\n",
    "    try:\n",
    "        # Rename URI (python variable case)\n",
    "        fileinfo['uri'] = fileinfo.pop('URI')\n",
    "        if ignore_file(fileinfo['uri'], ignore_list):\n",
    "            logger.debug('Ignoring {}'.format(fileinfo['uri']))\n",
    "            continue\n",
    "        download_file(sess, out_dir=exp_info['label'], **fileinfo)\n",
    "    except RuntimeError:\n",
    "        logger.info('Digest failed on {}'.format(fileinfo['uri']))\n",
    "    except RestApiError as err:\n",
    "        logger.info('Download Error on {}: {}'.format(\n",
    "            fileinfo['uri'], err))"
   ]
  },
  {
   "cell_type": "code",
   "execution_count": null,
   "metadata": {},
   "outputs": [],
   "source": [
    "fetch_resource(sess, exp_info, resources[0], always_checksum=True, ignore_list=ignore_list)"
   ]
  },
  {
   "cell_type": "code",
   "execution_count": null,
   "metadata": {},
   "outputs": [],
   "source": [
    "for resource in resources:\n",
    "    try:\n",
    "        fetch_resource(sess, exp_info, resource, always_checksum=True, ignore_list=ignore_list)\n",
    "    except ValueError as err:\n",
    "        if 'No JSON object could be decoded' in str(err):\n",
    "            logger.error(err)\n",
    "            continue\n",
    "        else:\n",
    "            raise\n",
    "    except ConnectionError as err:\n",
    "        logger.error(err)\n",
    "        resource_errors.append('ConnectionError: {}'.format(\n",
    "            exp_info['label']))\n",
    "        continue"
   ]
  }
 ],
 "metadata": {
  "kernelspec": {
   "display_name": "Python [conda env:.conda-hcpl]",
   "language": "python",
   "name": "conda-env-.conda-hcpl-py"
  },
  "language_info": {
   "codemirror_mode": {
    "name": "ipython",
    "version": 3
   },
   "file_extension": ".py",
   "mimetype": "text/x-python",
   "name": "python",
   "nbconvert_exporter": "python",
   "pygments_lexer": "ipython3",
   "version": "3.7.7"
  }
 },
 "nbformat": 4,
 "nbformat_minor": 2
}
