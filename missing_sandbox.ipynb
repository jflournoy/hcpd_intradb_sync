{
 "cells": [
  {
   "cell_type": "code",
   "execution_count": 6,
   "metadata": {},
   "outputs": [],
   "source": [
    "import pandas as pd\n",
    "import os, logging\n",
    "\n",
    "def getDlDirs(datapath):\n",
    "    dirs = [ f for f in os.listdir('/ncf/hcp/data/intradb_multiprocfix/') if os.path.isdir(datapath + f)]\n",
    "    dirs = sorted(dirs)\n",
    "    return(dirs)\n",
    "def anti_join(x, y, on):\n",
    "    \"\"\"Return rows in x which are not present in y\"\"\"\n",
    "    ans = pd.merge(left=x, right=y, how='left', indicator=True, on=on)\n",
    "    ans = ans.loc[ans._merge == 'left_only', :].drop(columns='_merge')\n",
    "    return ans\n",
    "\n",
    "scanpd = pd.read_csv('HCP_DevScanList-Staged-2020_06_09.csv')\n",
    "datapath = '/ncf/hcp/data/intradb_multiprocfix/'\n",
    "dldirs = getDlDirs(datapath)\n",
    "dlpd = pd.DataFrame(data = {'Subject': dldirs})\n",
    "dlpd['Subject'] = dlpd['Subject'].str.extract('(HCD.*?)_.*')\n",
    "\n",
    "missing = anti_join(scanpd, dlpd, on='Subject')\n",
    "logging.info('Saving csv of missing scans. N = ' + str(len(missing.index)))\n",
    "missing.to_csv('missing_dls.csv', index=False)"
   ]
  },
  {
   "cell_type": "code",
   "execution_count": 11,
   "metadata": {},
   "outputs": [
    {
     "data": {
      "text/plain": [
       "10"
      ]
     },
     "execution_count": 11,
     "metadata": {},
     "output_type": "execute_result"
    }
   ],
   "source": [
    "numeric_level = getattr(logging, 'DEBUG'.upper(), None)\n",
    "numeric_level"
   ]
  }
 ],
 "metadata": {
  "kernelspec": {
   "display_name": "Python [conda env:.conda-hcpl]",
   "language": "python",
   "name": "conda-env-.conda-hcpl-py"
  },
  "language_info": {
   "codemirror_mode": {
    "name": "ipython",
    "version": 3
   },
   "file_extension": ".py",
   "mimetype": "text/x-python",
   "name": "python",
   "nbconvert_exporter": "python",
   "pygments_lexer": "ipython3",
   "version": "3.7.7"
  }
 },
 "nbformat": 4,
 "nbformat_minor": 2
}
